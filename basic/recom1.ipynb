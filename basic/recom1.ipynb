{
 "cells": [
  {
   "cell_type": "markdown",
   "metadata": {},
   "source": [
    "### 추천시스템의 구조\n",
    "추천시스템의 전체적인 구조는 후보를 생성하는 단계와 랭킹을 매기는 단계로 구분된다.     \n",
    "- 후보 생성 단계     \n",
    "수백만개의 아이템 중 사용자의 활동 기록을 기반으로 후보가 될 만한 수백여개의 아이템으로 선정한다.(중요한 애들만 후보로 삼는 과정)      \n",
    "이러한 후보는 일반적으로 높은 정밀도로 사용자와 관련이 있고 협업필터링을 더해준다면 개인화를 제공할 수 있다.     \n",
    "리스트에서 최상의 후보를 뽑으려면 recall이 높은 후보 간 상대적 중요성을 구분하기 위해 세밀한 수준의 표현이 필요하다.     \n",
    "- 랭킹을 매기는 단계     \n",
    "아이템과 사용자를 설명하는 Feature를 사용해서 원하는 목적 함수에 따라 각 아이템에 점수를 할당, 가장 높은 점수를 받은 아이템부터 순위가 매겨져 사용자에게 표현된다."
   ]
  },
  {
   "cell_type": "markdown",
   "metadata": {},
   "source": [
    "#### 추천시스템의 종류\n",
    "추천시스템에는 크게 3가지의 종류가 있다.    \n",
    "1. Contents-based Recommender System (컨텐츠 기반 추천시스템)    \n",
    "- 사용자가 과거에 좋아했던 **아이템**을 파악하고 그 아이템과 **비슷한 아이템을 추천**한다.    \n",
    "- 부산행을 좋아한 유저 A, 부산행의 Feature와 가장 비슷하게 닮아있는 영화가 반도라고 했을 때, 반도를 추천함    \n",
    "- 1) 사용자가 과거에 접한 아이템이면서 만족한 아이템이 있어야함.\n",
    "- 2) 사용자가 좋아했던 아이템 중 일부 또는 전체와 비슷한 아이템을 선정\n",
    "- 3) 선정된 아이템을 유저에게 추천함    \n",
    "\n",
    "2. Collaborative Filtering Recommender System (협업 필터링 추천 시스템)    \n",
    "- **유사한 성향** 또는 취향을 가지는 **다른 사용자가 좋아한 아이템**을 현재 사용자에게 **추천**한다.   \n",
    "- 부산행을 좋아한 유저 A,B. A는 부산행 말고 반도 또한 만족했다는 평가를 했을 때, 반도를 B에게 추천한다. (즉 유저-아이템에 대한 평가 매트릭스와, 유저-유저 간의 유사도가 필요하다)    \n",
    "- 이런 두가지 행렬을 사용한다는 특성 때문에 협업 필터링이라고 한다.    \n",
    "- 1) 사용자 A와 B 모두 같은 아이템에 비슷한 평가를 했다.\n",
    "- 2) 이때 사용자 A는 다른 아이템에 평가를 내렸다. (위의 아이템과 비슷한)\n",
    "- 3) 따라서 A와 B는 유사한 성향을 띄니까 다른 아이템을 B에게 추천한다.    \n",
    "- Steps : 사용자 - 아이템 평가 매트릭스 -> 사용자-사용자 유사성 매트릭스(코사인, 유클리드) -> 유사한 사용자 탐색 -> 후보자 생성(유사한 사용자가 접한 아이템들의 ranking) -> 후보자 점수화 -> 후보 필터링(이미 접한 아이템 제거)    \n",
    "      \n",
    "협업 필터링에는 두가지 종류로 나뉜다.    \n",
    "- Memory-based : 사용자가 아이템을 좋아하거나 평가했는지 또는 특정 사용자가 항목을 좋아하거나 평가했는지 와 같은 사용자의 행동을 관찰한다. 전처리 없이 raw-data에 적용할 수 있고, 구현이 쉽고 추천 결과를 설명하기 간편하다.    \n",
    "Memory-based 방법은 또 2가지로 나뉜다.    \n",
    "- + User-based : 사용자와 유사한 사용자가 구매/좋아요 했다는 사실을 기반으로 사용자에게 추천\n",
    "- + Item-based : 사용자는 마음을 바꿀 수 있기 때문에 '이 항목을 좋아한 사용자가 ##또한 좋아합니다.'와 같이 추천\n",
    "- + 위와 같이 User를 기반으로 추천할 것이냐, Item을 기반으로 추천할 것이냐로 구분된다.    \n",
    "- Model-based : 데이터가 아닌 모델을 기반으로 작업속도를 높이는 추천시스템을 제공한다. 차원 축소가 자주 사용되며 이 접근 방법에서 가장 유명한건 행렬분해(Matrix Factorization)이다.\n",
    "- + 행렬분해 : 사용자로부터 피드백이 있는 경우, 즉 사용자가 특정 영화를 보거나 책을 읽고 리뷰를 남긴 경우에 **행**은 특정 사용자를 나타내고, **열**은 특정 아이템을 나타내는 행렬로 표현할 수 있다.    \n",
    "- + 사용자가 모든 아이템을 평가하는 것은 불가능하므로 이 매트릭스는 sparse하다.   \n",
    "- + 사용자-아이템 매트릭스와 아이템-rating 매트릭스가 있고, 사용자-아이템 매트릭스는 Transpose된 아이템-rating매트릭스와 곱해져서 사용자-rating 매트릭스를 얻는다.   \n",
    "- + 이를 통해서 loss함수를 최소화한다. \n",
    "\n",
    "3. Hybrid Recommender System \n",
    "- Content-based와 Collaborative 필터링의 장, 단점을 상호보완한다.   \n",
    "- Collaborative 필터링은 새로운 아이템에 대한 추천을 할 수 없다. 이때 Content-based 기법으로 Cold-start 문제를 해결할 수 있다.    \n",
    "  \n"
   ]
  },
  {
   "cell_type": "markdown",
   "metadata": {},
   "source": [
    "이번에는 파이썬을 활용해서 추천 시스템 중 콘텐츠 기반 필터링을 구현하고 이해해보도록 하자"
   ]
  },
  {
   "cell_type": "code",
   "execution_count": 1,
   "metadata": {},
   "outputs": [
    {
     "name": "stdout",
     "output_type": "stream",
     "text": [
      "Index(['budget', 'genres', 'homepage', 'id', 'original_language',\n",
      "       'original_title', 'overview', 'popularity', 'poster_path',\n",
      "       'production_companies', 'production_countries', 'release_date',\n",
      "       'revenue', 'runtime', 'spoken_languages', 'status', 'tagline', 'title',\n",
      "       'vote_average', 'vote_count'],\n",
      "      dtype='object') 20\n",
      "     budget                                             genres  \\\n",
      "0  30000000  [{'id': 16, 'name': 'Animation'}, {'id': 35, '...   \n",
      "1  65000000  [{'id': 12, 'name': 'Adventure'}, {'id': 14, '...   \n",
      "\n",
      "                               homepage    id original_language  \\\n",
      "0  http://toystory.disney.com/toy-story   862                en   \n",
      "1                                   NaN  8844                en   \n",
      "\n",
      "  original_title                                           overview  \\\n",
      "0      Toy Story  Led by Woody, Andy's toys live happily in his ...   \n",
      "1        Jumanji  When siblings Judy and Peter discover an encha...   \n",
      "\n",
      "  popularity                       poster_path  \\\n",
      "0  21.946943  /rhIRbceoE9lR4veEXuwCC2wARtG.jpg   \n",
      "1  17.015539  /vzmL6fP7aPKNKPRTFnZmiUfciyV.jpg   \n",
      "\n",
      "                                production_companies  \\\n",
      "0     [{'name': 'Pixar Animation Studios', 'id': 3}]   \n",
      "1  [{'name': 'TriStar Pictures', 'id': 559}, {'na...   \n",
      "\n",
      "                                production_countries release_date  \\\n",
      "0  [{'iso_3166_1': 'US', 'name': 'United States o...   1995-10-30   \n",
      "1  [{'iso_3166_1': 'US', 'name': 'United States o...   1995-12-15   \n",
      "\n",
      "       revenue  runtime                                   spoken_languages  \\\n",
      "0  373554033.0     81.0           [{'iso_639_1': 'en', 'name': 'English'}]   \n",
      "1  262797249.0    104.0  [{'iso_639_1': 'en', 'name': 'English'}, {'iso...   \n",
      "\n",
      "     status                                    tagline      title  \\\n",
      "0  Released                                        NaN  Toy Story   \n",
      "1  Released  Roll the dice and unleash the excitement!    Jumanji   \n",
      "\n",
      "   vote_average  vote_count  \n",
      "0           7.7      5415.0  \n",
      "1           6.9      2413.0  \n"
     ]
    },
    {
     "name": "stderr",
     "output_type": "stream",
     "text": [
      "C:\\Users\\BIG3-09\\AppData\\Local\\Temp\\ipykernel_8068\\3698250489.py:3: DtypeWarning: Columns (10) have mixed types. Specify dtype option on import or set low_memory=False.\n",
      "  data = pd.read_csv('./movie_data/movies_metadata.csv').drop(['adult','belongs_to_collection','imdb_id','video'],axis=1)\n"
     ]
    }
   ],
   "source": [
    "import pandas as pd\n",
    "\n",
    "data = pd.read_csv('./movie_data/movies_metadata.csv').drop(['adult','belongs_to_collection','imdb_id','video'],axis=1)\n",
    "print(data.columns,len(data.columns))\n",
    "print(data.head(2))"
   ]
  },
  {
   "cell_type": "code",
   "execution_count": 2,
   "metadata": {},
   "outputs": [
    {
     "name": "stdout",
     "output_type": "stream",
     "text": [
      "budget                   object\n",
      "genres                   object\n",
      "homepage                 object\n",
      "id                       object\n",
      "original_language        object\n",
      "original_title           object\n",
      "overview                 object\n",
      "popularity               object\n",
      "poster_path              object\n",
      "production_companies     object\n",
      "production_countries     object\n",
      "release_date             object\n",
      "revenue                 float64\n",
      "runtime                 float64\n",
      "spoken_languages         object\n",
      "status                   object\n",
      "tagline                  object\n",
      "title                    object\n",
      "vote_average            float64\n",
      "vote_count              float64\n",
      "dtype: object\n"
     ]
    }
   ],
   "source": [
    "print(data.dtypes)\n",
    "#genre 와 keyword 처리\n",
    "from ast import literal_eval\n",
    "data['genres'] = data['genres'].apply(literal_eval)\n",
    "#print(data['genres'])"
   ]
  },
  {
   "cell_type": "code",
   "execution_count": 3,
   "metadata": {},
   "outputs": [
    {
     "name": "stdout",
     "output_type": "stream",
     "text": [
      "0         Animation Comedy Family\n",
      "1        Adventure Fantasy Family\n",
      "2                  Romance Comedy\n",
      "3            Comedy Drama Romance\n",
      "4                          Comedy\n",
      "                   ...           \n",
      "45461                Drama Family\n",
      "45462                       Drama\n",
      "45463       Action Drama Thriller\n",
      "45464                            \n",
      "45465                            \n",
      "Name: genres, Length: 45466, dtype: object\n"
     ]
    }
   ],
   "source": [
    "data['genres'] = data['genres'].apply(lambda x : [d['name'] for d in x]).apply(lambda x : \" \".join(x)) #dict형식으로 되어있고 name만 관심있는 데이터이기 때문에 name에 해당하는 value만 가지고옴\n",
    "print(data['genres'])"
   ]
  },
  {
   "cell_type": "code",
   "execution_count": 4,
   "metadata": {},
   "outputs": [
    {
     "name": "stdout",
     "output_type": "stream",
     "text": [
      "0        7.7\n",
      "1        6.9\n",
      "2        6.5\n",
      "3        6.1\n",
      "4        5.7\n",
      "        ... \n",
      "45461    4.0\n",
      "45462    9.0\n",
      "45463    3.8\n",
      "45464    0.0\n",
      "45465    0.0\n",
      "Name: vote_average, Length: 45466, dtype: float64 0        5415.0\n",
      "1        2413.0\n",
      "2          92.0\n",
      "3          34.0\n",
      "4         173.0\n",
      "          ...  \n",
      "45461       1.0\n",
      "45462       3.0\n",
      "45463       6.0\n",
      "45464       0.0\n",
      "45465       0.0\n",
      "Name: vote_count, Length: 45466, dtype: float64\n"
     ]
    },
    {
     "data": {
      "text/plain": [
       "<Axes: ylabel='vote_average'>"
      ]
     },
     "execution_count": 4,
     "metadata": {},
     "output_type": "execute_result"
    },
    {
     "data": {
      "image/png": "[encoded data removed]",
      "text/plain": [
       "<Figure size 640x480 with 1 Axes>"
      ]
     },
     "metadata": {},
     "output_type": "display_data"
    }
   ],
   "source": [
    "print(data['vote_average'],data['vote_count'])\n",
    "import seaborn as sns\n",
    "\n",
    "sns.barplot(data[:500],x=data[:500].index,y=data[:500]['vote_average'])\n",
    "\n"
   ]
  },
  {
   "cell_type": "code",
   "execution_count": 5,
   "metadata": {},
   "outputs": [
    {
     "data": {
      "text/plain": [
       "<Axes: ylabel='vote_count'>"
      ]
     },
     "execution_count": 5,
     "metadata": {},
     "output_type": "execute_result"
    },
    {
     "data": {
      "image/png": "[encoded data removed]",
      "text/plain": [
       "<Figure size 640x480 with 1 Axes>"
      ]
     },
     "metadata": {},
     "output_type": "display_data"
    }
   ],
   "source": [
    "sns.barplot(data[:500],x=data[:500].index,y=data[:500]['vote_count'])"
   ]
  },
  {
   "cell_type": "code",
   "execution_count": 6,
   "metadata": {},
   "outputs": [
    {
     "name": "stdout",
     "output_type": "stream",
     "text": [
      "count    45460.000000\n",
      "mean       109.897338\n",
      "std        491.310374\n",
      "min          0.000000\n",
      "25%          3.000000\n",
      "50%         10.000000\n",
      "75%         34.000000\n",
      "max      14075.000000\n",
      "Name: vote_count, dtype: float64\n"
     ]
    }
   ],
   "source": [
    "print(data['vote_count'].describe())"
   ]
  },
  {
   "cell_type": "markdown",
   "metadata": {},
   "source": [
    "위의 시각화 및 통계값 분석 데이터를 보면 극단적으로 일부 데이터가 많은 투표를 받았음을 볼 수 있다.   \n",
    "하지만 별점은 많은 사람이 투표할 수록 극단적으로 높기 어렵다.   \n",
    "이런 불공정한 부분을 해결해야한다.    \n",
    "이를 해결하기 위해서 imdb에서는 weighted rating(WR)을 제안한다.    \n",
    "$$WR = (\\frac{v}{v+m})*R+(\\frac{m}{v+m})*C$$    \n",
    "이다.    \n",
    "- r:개별 영화 평점\n",
    "- v:개별영화에 평점을 투표한 횟수(vote_count)\n",
    "- m: 250위 안에 들어야 하는 최소한의 투표 수 (임의로 정해도된다.)\n",
    "- c: 전체 영화에 대한 평균평점    \n",
    "\n",
    "하지만 번거롭기 때문에 나는 1000표 이상 받았으면 어느정도 받았다고 치고 1000표 이상인 데이터만 가지고 진행할 예정이다."
   ]
  },
  {
   "cell_type": "code",
   "execution_count": 7,
   "metadata": {},
   "outputs": [
    {
     "name": "stdout",
     "output_type": "stream",
     "text": [
      "          budget                                     genres  \\\n",
      "0       30000000                    Animation Comedy Family   \n",
      "1       65000000                   Adventure Fantasy Family   \n",
      "5       60000000                Action Crime Drama Thriller   \n",
      "9       58000000                  Adventure Action Thriller   \n",
      "15      52000000                                Drama Crime   \n",
      "...          ...                                        ...   \n",
      "43644   34000000                               Action Crime   \n",
      "44009   80000000   Action Animation Adventure Family Comedy   \n",
      "44274  152000000                  Drama Science Fiction War   \n",
      "44678  100000000          Action Drama History Thriller War   \n",
      "44842  260000000  Action Science Fiction Thriller Adventure   \n",
      "\n",
      "                                                homepage      id  \\\n",
      "0                   http://toystory.disney.com/toy-story     862   \n",
      "1                                                    NaN    8844   \n",
      "5                                                    NaN     949   \n",
      "9           http://www.mgm.com/view/movie/757/Goldeneye/     710   \n",
      "15                                                   NaN     524   \n",
      "...                                                  ...     ...   \n",
      "43644                                                NaN  339403   \n",
      "44009                           http://www.despicable.me  324852   \n",
      "44274  http://www.foxmovies.com/movies/war-for-the-pl...  281338   \n",
      "44678                       http://www.dunkirkmovie.com/  374720   \n",
      "44842                  http://www.transformersmovie.com/  335988   \n",
      "\n",
      "      original_language                  original_title  \\\n",
      "0                    en                       Toy Story   \n",
      "1                    en                         Jumanji   \n",
      "5                    en                            Heat   \n",
      "9                    en                       GoldenEye   \n",
      "15                   en                          Casino   \n",
      "...                 ...                             ...   \n",
      "43644                en                     Baby Driver   \n",
      "44009                en                 Despicable Me 3   \n",
      "44274                en  War for the Planet of the Apes   \n",
      "44678                en                         Dunkirk   \n",
      "44842                en   Transformers: The Last Knight   \n",
      "\n",
      "                                                overview  popularity  \\\n",
      "0      Led by Woody, Andy's toys live happily in his ...   21.946943   \n",
      "1      When siblings Judy and Peter discover an encha...   17.015539   \n",
      "5      Obsessive master thief, Neil McCauley leads a ...   17.924927   \n",
      "9      James Bond must unmask the mysterious head of ...   14.686036   \n",
      "15     The life of the gambling paradise – Las Vegas ...   10.137389   \n",
      "...                                                  ...         ...   \n",
      "43644  After being coerced into working for a crime b...  228.032744   \n",
      "44009  Gru and his wife Lucy must stop former '80s ch...   36.631519   \n",
      "44274  Caesar and his apes are forced into a deadly c...  146.161786   \n",
      "44678  The miraculous evacuation of Allied soldiers f...   30.938854   \n",
      "44842  Autobots and Decepticons are at war, with huma...   39.186819   \n",
      "\n",
      "                            poster_path  \\\n",
      "0      /rhIRbceoE9lR4veEXuwCC2wARtG.jpg   \n",
      "1      /vzmL6fP7aPKNKPRTFnZmiUfciyV.jpg   \n",
      "5      /zMyfPUelumio3tiDKPffaUpsQTD.jpg   \n",
      "9      /5c0ovjT41KnYIHYuF4AWsTe3sKh.jpg   \n",
      "15     /xo517ibXBDdYQY81j0WIG7BVcWq.jpg   \n",
      "...                                 ...   \n",
      "43644  /dN9LbVNNZFITwfaRjl4tmwGWkRg.jpg   \n",
      "44009  /5qcUGqWoWhEsoQwNUrtf3y3fcWn.jpg   \n",
      "44274  /3vYhLLxrTtZLysXtIWktmd57Snv.jpg   \n",
      "44678  /bOXBV303Fgkzn2K4FeKDc0O31q4.jpg   \n",
      "44842  /s5HQf2Gb3lIO2cRcFwNL9sn1o1o.jpg   \n",
      "\n",
      "                                    production_companies  \\\n",
      "0         [{'name': 'Pixar Animation Studios', 'id': 3}]   \n",
      "1      [{'name': 'TriStar Pictures', 'id': 559}, {'na...   \n",
      "5      [{'name': 'Regency Enterprises', 'id': 508}, {...   \n",
      "9      [{'name': 'United Artists', 'id': 60}, {'name'...   \n",
      "15     [{'name': 'Universal Pictures', 'id': 33}, {'n...   \n",
      "...                                                  ...   \n",
      "43644  [{'name': 'Big Talk Productions', 'id': 443}, ...   \n",
      "44009  [{'name': 'Illumination Entertainment', 'id': ...   \n",
      "44274    [{'name': 'Chernin Entertainment', 'id': 7076}]   \n",
      "44678  [{'name': 'Canal+', 'id': 5358}, {'name': 'Stu...   \n",
      "44842  [{'name': 'Paramount Pictures', 'id': 4}, {'na...   \n",
      "\n",
      "                                    production_countries release_date  \\\n",
      "0      [{'iso_3166_1': 'US', 'name': 'United States o...   1995-10-30   \n",
      "1      [{'iso_3166_1': 'US', 'name': 'United States o...   1995-12-15   \n",
      "5      [{'iso_3166_1': 'US', 'name': 'United States o...   1995-12-15   \n",
      "9      [{'iso_3166_1': 'GB', 'name': 'United Kingdom'...   1995-11-16   \n",
      "15     [{'iso_3166_1': 'FR', 'name': 'France'}, {'iso...   1995-11-22   \n",
      "...                                                  ...          ...   \n",
      "43644  [{'iso_3166_1': 'GB', 'name': 'United Kingdom'...   2017-06-28   \n",
      "44009  [{'iso_3166_1': 'US', 'name': 'United States o...   2017-06-15   \n",
      "44274  [{'iso_3166_1': 'CA', 'name': 'Canada'}, {'iso...   2017-07-11   \n",
      "44678  [{'iso_3166_1': 'NL', 'name': 'Netherlands'}, ...   2017-07-19   \n",
      "44842  [{'iso_3166_1': 'US', 'name': 'United States o...   2017-06-21   \n",
      "\n",
      "            revenue  runtime  \\\n",
      "0      3.735540e+08     81.0   \n",
      "1      2.627972e+08    104.0   \n",
      "5      1.874368e+08    170.0   \n",
      "9      3.521940e+08    130.0   \n",
      "15     1.161124e+08    178.0   \n",
      "...             ...      ...   \n",
      "43644  2.245113e+08    113.0   \n",
      "44009  1.020063e+09     96.0   \n",
      "44274  3.699080e+08    140.0   \n",
      "44678  5.198769e+08    107.0   \n",
      "44842  6.049421e+08    149.0   \n",
      "\n",
      "                                        spoken_languages    status  \\\n",
      "0               [{'iso_639_1': 'en', 'name': 'English'}]  Released   \n",
      "1      [{'iso_639_1': 'en', 'name': 'English'}, {'iso...  Released   \n",
      "5      [{'iso_639_1': 'en', 'name': 'English'}, {'iso...  Released   \n",
      "9      [{'iso_639_1': 'en', 'name': 'English'}, {'iso...  Released   \n",
      "15              [{'iso_639_1': 'en', 'name': 'English'}]  Released   \n",
      "...                                                  ...       ...   \n",
      "43644           [{'iso_639_1': 'en', 'name': 'English'}]  Released   \n",
      "44009           [{'iso_639_1': 'en', 'name': 'English'}]  Released   \n",
      "44274           [{'iso_639_1': 'en', 'name': 'English'}]  Released   \n",
      "44678  [{'iso_639_1': 'en', 'name': 'English'}, {'iso...  Released   \n",
      "44842           [{'iso_639_1': 'en', 'name': 'English'}]  Released   \n",
      "\n",
      "                                          tagline  \\\n",
      "0                                             NaN   \n",
      "1       Roll the dice and unleash the excitement!   \n",
      "5                        A Los Angeles Crime Saga   \n",
      "9            No limits. No fears. No substitutes.   \n",
      "15               No one stays at the top forever.   \n",
      "...                                           ...   \n",
      "43644           All you need is one killer track.   \n",
      "44009                                 Oh brother.   \n",
      "44274    For freedom. For family. For the planet.   \n",
      "44678             The event that shaped our world   \n",
      "44842  For one world to live, the other must die.   \n",
      "\n",
      "                                title  vote_average  vote_count  \n",
      "0                           Toy Story           7.7      5415.0  \n",
      "1                             Jumanji           6.9      2413.0  \n",
      "5                                Heat           7.7      1886.0  \n",
      "9                           GoldenEye           6.6      1194.0  \n",
      "15                             Casino           7.8      1343.0  \n",
      "...                               ...           ...         ...  \n",
      "43644                     Baby Driver           7.2      2083.0  \n",
      "44009                 Despicable Me 3           6.2      2002.0  \n",
      "44274  War for the Planet of the Apes           6.7      1675.0  \n",
      "44678                         Dunkirk           7.5      2712.0  \n",
      "44842   Transformers: The Last Knight           6.2      1440.0  \n",
      "\n",
      "[1120 rows x 20 columns]\n"
     ]
    }
   ],
   "source": [
    "new_data = data.query(\"vote_count > 1000\")\n",
    "print(new_data)"
   ]
  },
  {
   "cell_type": "code",
   "execution_count": 8,
   "metadata": {},
   "outputs": [
    {
     "name": "stdout",
     "output_type": "stream",
     "text": [
      "1005.0\n"
     ]
    }
   ],
   "source": [
    "print(new_data['vote_count'].min()) #1000표 이상인 영화 데이터만 뽑힌 것을 확인할 수 있다. "
   ]
  },
  {
   "cell_type": "markdown",
   "metadata": {},
   "source": [
    "### 콘텐츠 기반 필터링 추천(Content based filtering)\n",
    "콘텐츠 기반으로 추천을 하고자 한다. 비슷한 콘텐츠가 어떤게 있는지를 찾아서 사용자에게 추천하는 것을 말한다.   \n",
    "비슷한 콘텐츠는 뭐가 있을까? -> 장르가 될 수 있다.    \n",
    "또한 나중에 자연어 모델을 사용해서 overview를 요약하게 되면 이 부분도 비슷한 콘텐츠가 될 수 있다.    \n",
    "우선 장르를 가지고 콘텐츠 기반 추천을 하도록 하자. 현재 장르는 문자열로 되어있다. 비슷한지 아닌지 확인하려면 이를 벡터화 시켜야한다."
   ]
  },
  {
   "cell_type": "code",
   "execution_count": 12,
   "metadata": {},
   "outputs": [
    {
     "name": "stdout",
     "output_type": "stream",
     "text": [
      "[[0.         0.         0.68601997 ... 0.         0.         0.        ]\n",
      " [0.         0.54393878 0.         ... 0.         0.         0.        ]\n",
      " [0.         0.         0.         ... 0.         0.         0.        ]\n",
      " ...\n",
      " [0.66164348 0.         0.         ... 0.         0.         0.        ]\n",
      " [0.         0.         0.         ... 0.         0.         0.        ]\n",
      " [0.         0.         0.         ... 0.         0.         0.        ]]\n",
      "['action' 'adventure' 'animation' 'aniplex' 'brosta' 'carousel' 'cartel'\n",
      " 'comedy' 'committee' 'crime' 'documentary' 'drama' 'entertainment'\n",
      " 'family' 'fantasy' 'fiction' 'film' 'filmworks' 'foreign' 'gohands'\n",
      " 'group' 'history' 'horror' 'mardock' 'media' 'movie' 'music' 'mystery'\n",
      " 'odyssey' 'production' 'productions' 'pulser' 'rogue' 'romance' 'science'\n",
      " 'scramble' 'sentai' 'state' 'telescene' 'the' 'thriller' 'tv' 'view'\n",
      " 'vision' 'war' 'western']\n"
     ]
    }
   ],
   "source": [
    "#장르 -> TF-IDF 벡터화\n",
    "from sklearn.feature_extraction.text import TfidfVectorizer\n",
    "from sklearn.feature_extraction.text import CountVectorizer\n",
    "from sklearn.metrics.pairwise import cosine_similarity\n",
    "\n",
    "tfidf = TfidfVectorizer()\n",
    "tfidf_matrix = tfidf.fit_transform(data['genres']).toarray()\n",
    "print(tfidf_matrix)\n",
    "tfidf_matrix_feat = tfidf.get_feature_names_out()\n",
    "print(tfidf_matrix_feat)"
   ]
  },
  {
   "cell_type": "code",
   "execution_count": 13,
   "metadata": {},
   "outputs": [],
   "source": [
    "tfidf_df = pd.DataFrame(tfidf_matrix,columns=tfidf_matrix_feat,index=data['title'])"
   ]
  },
  {
   "cell_type": "code",
   "execution_count": 14,
   "metadata": {},
   "outputs": [
    {
     "name": "stdout",
     "output_type": "stream",
     "text": [
      "                             action  adventure  animation  aniplex  brosta  \\\n",
      "title                                                                        \n",
      "Toy Story                       0.0   0.000000    0.68602      0.0     0.0   \n",
      "Jumanji                         0.0   0.543939    0.00000      0.0     0.0   \n",
      "Grumpier Old Men                0.0   0.000000    0.00000      0.0     0.0   \n",
      "Waiting to Exhale               0.0   0.000000    0.00000      0.0     0.0   \n",
      "Father of the Bride Part II     0.0   0.000000    0.00000      0.0     0.0   \n",
      "\n",
      "                             carousel  cartel    comedy  committee  crime  \\\n",
      "title                                                                       \n",
      "Toy Story                         0.0     0.0  0.369398        0.0    0.0   \n",
      "Jumanji                           0.0     0.0  0.000000        0.0    0.0   \n",
      "Grumpier Old Men                  0.0     0.0  0.609705        0.0    0.0   \n",
      "Waiting to Exhale                 0.0     0.0  0.546955        0.0    0.0   \n",
      "Father of the Bride Part II       0.0     0.0  1.000000        0.0    0.0   \n",
      "\n",
      "                             ...  sentai  state  telescene  the  thriller  \\\n",
      "title                        ...                                            \n",
      "Toy Story                    ...     0.0    0.0        0.0  0.0       0.0   \n",
      "Jumanji                      ...     0.0    0.0        0.0  0.0       0.0   \n",
      "Grumpier Old Men             ...     0.0    0.0        0.0  0.0       0.0   \n",
      "Waiting to Exhale            ...     0.0    0.0        0.0  0.0       0.0   \n",
      "Father of the Bride Part II  ...     0.0    0.0        0.0  0.0       0.0   \n",
      "\n",
      "                              tv  view  vision  war  western  \n",
      "title                                                         \n",
      "Toy Story                    0.0   0.0     0.0  0.0      0.0  \n",
      "Jumanji                      0.0   0.0     0.0  0.0      0.0  \n",
      "Grumpier Old Men             0.0   0.0     0.0  0.0      0.0  \n",
      "Waiting to Exhale            0.0   0.0     0.0  0.0      0.0  \n",
      "Father of the Bride Part II  0.0   0.0     0.0  0.0      0.0  \n",
      "\n",
      "[5 rows x 46 columns]\n"
     ]
    }
   ],
   "source": [
    "print(tfidf_df.head()) #각 타이틀 별 장르가 얼마나 비중을 차지하는지 보여준다. "
   ]
  },
  {
   "cell_type": "code",
   "execution_count": 16,
   "metadata": {},
   "outputs": [
    {
     "name": "stdout",
     "output_type": "stream",
     "text": [
      "[[1.         0.36321448 0.2252239  ... 0.         0.         0.        ]\n",
      " [0.36321448 1.         0.         ... 0.         0.         0.        ]\n",
      " [0.2252239  0.         1.         ... 0.         0.         0.        ]\n",
      " ...\n",
      " [0.         0.         0.         ... 1.         0.         0.        ]\n",
      " [0.         0.         0.         ... 0.         0.         0.        ]\n",
      " [0.         0.         0.         ... 0.         0.         0.        ]]\n"
     ]
    }
   ],
   "source": [
    "cos_sim = cosine_similarity(tfidf_df)\n",
    "print(cos_sim)"
   ]
  },
  {
   "cell_type": "markdown",
   "metadata": {},
   "source": [
    "위의 코드에서 각 영화별 장르 유사성을 띄는 행렬을 얻었다.    \n",
    "이것을 데이터프레임으로 만들고 유사도가 가장 높은 topk 개의 타이틀을 출력하도록 해보자"
   ]
  },
  {
   "cell_type": "code",
   "execution_count": 21,
   "metadata": {},
   "outputs": [
    {
     "name": "stdout",
     "output_type": "stream",
     "text": [
      "title                        Toy Story   Jumanji  Grumpier Old Men  \\\n",
      "title                                                                \n",
      "Toy Story                     1.000000  0.363214          0.225224   \n",
      "Jumanji                       0.363214  1.000000          0.000000   \n",
      "Grumpier Old Men              0.225224  0.000000          1.000000   \n",
      "Waiting to Exhale             0.202044  0.000000          0.897082   \n",
      "Father of the Bride Part II   0.369398  0.000000          0.609705   \n",
      "\n",
      "title                        Waiting to Exhale  Father of the Bride Part II  \\\n",
      "title                                                                         \n",
      "Toy Story                             0.202044                     0.369398   \n",
      "Jumanji                               0.000000                     0.000000   \n",
      "Grumpier Old Men                      0.897082                     0.609705   \n",
      "Waiting to Exhale                     1.000000                     0.546955   \n",
      "Father of the Bride Part II           0.546955                     1.000000   \n",
      "\n",
      "title                            Heat   Sabrina  Tom and Huck  Sudden Death  \\\n",
      "title                                                                         \n",
      "Toy Story                    0.000000  0.225224      0.381251      0.000000   \n",
      "Jumanji                      0.000000  0.000000      0.662989      0.359749   \n",
      "Grumpier Old Men             0.000000  1.000000      0.000000      0.000000   \n",
      "Waiting to Exhale            0.143763  0.897082      0.127946      0.000000   \n",
      "Father of the Bride Part II  0.000000  0.609705      0.000000      0.000000   \n",
      "\n",
      "title                        GoldenEye  ...  House of Horrors  \\\n",
      "title                                   ...                     \n",
      "Toy Story                     0.000000  ...               0.0   \n",
      "Jumanji                       0.359749  ...               0.0   \n",
      "Grumpier Old Men              0.000000  ...               0.0   \n",
      "Waiting to Exhale             0.000000  ...               0.0   \n",
      "Father of the Bride Part II   0.000000  ...               0.0   \n",
      "\n",
      "title                        Shadow of the Blair Witch  The Burkittsville 7  \\\n",
      "title                                                                         \n",
      "Toy Story                                          0.0                  0.0   \n",
      "Jumanji                                            0.0                  0.0   \n",
      "Grumpier Old Men                                   0.0                  0.0   \n",
      "Waiting to Exhale                                  0.0                  0.0   \n",
      "Father of the Bride Part II                        0.0                  0.0   \n",
      "\n",
      "title                        Caged Heat 3000  Robin Hood    Subdue  \\\n",
      "title                                                                \n",
      "Toy Story                                0.0    0.000000  0.565969   \n",
      "Jumanji                                  0.0    0.000000  0.523178   \n",
      "Grumpier Old Men                         0.0    0.511581  0.000000   \n",
      "Waiting to Exhale                        0.0    0.636153  0.189936   \n",
      "Father of the Bride Part II              0.0    0.000000  0.000000   \n",
      "\n",
      "title                        Century of Birthing  Betrayal  Satan Triumphant  \\\n",
      "title                                                                          \n",
      "Toy Story                               0.000000  0.000000               0.0   \n",
      "Jumanji                                 0.000000  0.000000               0.0   \n",
      "Grumpier Old Men                        0.000000  0.000000               0.0   \n",
      "Waiting to Exhale                       0.441864  0.180384               0.0   \n",
      "Father of the Bride Part II             0.000000  0.000000               0.0   \n",
      "\n",
      "title                        Queerama  \n",
      "title                                  \n",
      "Toy Story                         0.0  \n",
      "Jumanji                           0.0  \n",
      "Grumpier Old Men                  0.0  \n",
      "Waiting to Exhale                 0.0  \n",
      "Father of the Bride Part II       0.0  \n",
      "\n",
      "[5 rows x 45466 columns]\n"
     ]
    }
   ],
   "source": [
    "sim_df = pd.DataFrame(cos_sim,columns=data['title'],index=data['title'])\n",
    "print(sim_df.head())"
   ]
  },
  {
   "cell_type": "code",
   "execution_count": 27,
   "metadata": {},
   "outputs": [],
   "source": [
    "# 뭐가 유사한지 확인 \n",
    "recom_df = sim_df.query('title == \"Toy Story\"')\n"
   ]
  },
  {
   "cell_type": "code",
   "execution_count": 43,
   "metadata": {},
   "outputs": [
    {
     "name": "stdout",
     "output_type": "stream",
     "text": [
      "title      Toy Story  Open Season 3  Yellowbird  Animalympics  \\\n",
      "title                                                           \n",
      "Toy Story        1.0            1.0         1.0           1.0   \n",
      "\n",
      "title      Hoodwinked Too! Hood VS. Evil  Frankenweenie  Hotel Transylvania 2  \\\n",
      "title                                                                           \n",
      "Toy Story                            1.0            1.0                   1.0   \n",
      "\n",
      "title      The Prince and the Pauper  Mr. Bug Goes to Town  Happy Feet Two  \\\n",
      "title                                                                        \n",
      "Toy Story                        1.0                   1.0             1.0   \n",
      "\n",
      "title      ...  Daddy Day Care     Rufus  Nacho Libre  \\\n",
      "title      ...                                          \n",
      "Toy Story  ...        0.727583  0.727583     0.727583   \n",
      "\n",
      "title      The Adventures of Food Boy  \\\n",
      "title                                   \n",
      "Toy Story                    0.727583   \n",
      "\n",
      "title      Won Ton Ton: the Dog Who Saved Hollywood  Ernest Rides Again  \\\n",
      "title                                                                     \n",
      "Toy Story                                  0.727583            0.727583   \n",
      "\n",
      "title      The Sasquatch Gang  Tatu and Patu  \\\n",
      "title                                          \n",
      "Toy Story            0.727583       0.727583   \n",
      "\n",
      "title      Middle School: The Worst Years of My Life  \\\n",
      "title                                                  \n",
      "Toy Story                                   0.727583   \n",
      "\n",
      "title      Don't Tell Mom the Babysitter's Dead  \n",
      "title                                            \n",
      "Toy Story                              0.727583  \n",
      "\n",
      "[1 rows x 1000 columns]\n"
     ]
    }
   ],
   "source": [
    "top_k = recom_df.sort_values('Toy Story',axis=1,ascending=False).iloc[:,:1000]\n",
    "print(top_k)\n"
   ]
  },
  {
   "cell_type": "markdown",
   "metadata": {},
   "source": [
    "위의 결과에서 Open Season 과 유사하다고 나오는데 Open Season은 곰돌이가 나오는 애니메이션이다. 그리고 뒤쪽으로 갈 수록 다른 영화들이 나온다.    \n",
    "대부분 animation을 기준으로 나오는 것을 보면 animation은 장르에 끼치는 영향이 큰 것 같다."
   ]
  },
  {
   "cell_type": "code",
   "execution_count": 55,
   "metadata": {},
   "outputs": [
    {
     "name": "stdout",
     "output_type": "stream",
     "text": [
      "title               The Dark Knight Rises\n",
      "title                                    \n",
      "Blast of Silence                      1.0\n",
      "Murder by Contract                    1.0\n",
      "Fulltime Killer                       1.0\n",
      "The Anderson Tapes                    1.0\n",
      "New Police Story                      1.0\n",
      "...                                   ...\n",
      "Original Gangstas                     1.0\n",
      "Black's Game                          1.0\n",
      "The Dark Knight                       1.0\n",
      "The Immortals                         1.0\n",
      "The Star Chamber                      1.0\n",
      "\n",
      "[150 rows x 1 columns]\n"
     ]
    }
   ],
   "source": [
    "recom_df = sim_df.query('title == \"The Dark Knight Rises\"') #다른 영화 확인\n",
    "\n",
    "top_k = recom_df.sort_values('The Dark Knight Rises',axis=1,ascending=False).iloc[:,:150]\n",
    "print(top_k.T)"
   ]
  },
  {
   "cell_type": "markdown",
   "metadata": {},
   "source": [
    "살짝 어두운 느낌의 영화들이 추천되는 것을 보면 어느정도 잘 예측하고 있다는 것을 나타낸다."
   ]
  },
  {
   "cell_type": "code",
   "execution_count": null,
   "metadata": {},
   "outputs": [],
   "source": []
  }
 ],
 "metadata": {
  "kernelspec": {
   "display_name": "base",
   "language": "python",
   "name": "python3"
  },
  "language_info": {
   "codemirror_mode": {
    "name": "ipython",
    "version": 3
   },
   "file_extension": ".py",
   "mimetype": "text/x-python",
   "name": "python",
   "nbconvert_exporter": "python",
   "pygments_lexer": "ipython3",
   "version": "3.11.5"
  }
 },
 "nbformat": 4,
 "nbformat_minor": 2
}
